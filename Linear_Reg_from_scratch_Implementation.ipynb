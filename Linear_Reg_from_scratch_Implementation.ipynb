{
 "cells": [
  {
   "cell_type": "code",
   "execution_count": 81,
   "id": "c83c82c7",
   "metadata": {},
   "outputs": [],
   "source": [
    "import numpy as np\n",
    "\n",
    "class LR:\n",
    "    def __init__(self, learn_rate=0.01, no_of_iterations=400):\n",
    "        self.no_of_iterations = no_of_iterations\n",
    "        self.learn_rate = learn_rate\n",
    "        self.weights = None\n",
    "        self.bias = None \n",
    "\n",
    "    def fit(self, X, y):\n",
    "        self.no_of_samples, self.no_of_features = X.shape\n",
    "        self.weights = np.zeros(self.no_of_features)\n",
    "        self.bias = 0\n",
    "\n",
    "        total_loss = 1e-5\n",
    "        prev_loss = 0\n",
    "\n",
    "        for i in range(self.no_of_iterations):\n",
    "            self.update_weights(X, y)\n",
    "            self.y_pred = self.predict(X)\n",
    "            current_loss = np.mean((self.y_pred - y) ** 2)\n",
    "            \n",
    "            if i > 0 and not np.isnan(current_loss) and abs(current_loss - prev_loss) < total_loss:\n",
    "                break\n",
    "\n",
    "\n",
    "            prev_loss = current_loss\n",
    "\n",
    "    def update_weights(self, X, y):\n",
    "        y_pred = self.predict(X)\n",
    "\n",
    "        # Calculating gradients \n",
    "        dw = (1/self.no_of_samples) * (np.dot(X.T, (y_pred - y)))\n",
    "        db = (1/self.no_of_samples) * (np.sum(y_pred - y))\n",
    "\n",
    "        self.weights = self.weights - (self.learn_rate * dw)\n",
    "        self.bias = self.bias - (self.learn_rate * db)\n",
    "\n",
    "    def predict(self, X):\n",
    "        return X.dot(self.weights) + self.bias\n",
    "\n",
    "    \n",
    "\n",
    "    \n",
    "\n",
    "    \n",
    "    \n",
    "    \n",
    "\n",
    "\n",
    "def standardize_1d(X):\n",
    "    total_sum = sum(X)\n",
    "    mean = total_sum / len(X)\n",
    "    diff = [(i - mean) ** 2 for i in X]\n",
    "    variance = sum(diff) / len(X)\n",
    "    standard_deviation = variance ** 0.5\n",
    "\n",
    "    std = [(i - mean) / standard_deviation for i in X]\n",
    "    return std\n",
    "\n",
    "def standardized(X):\n",
    "    num_samples = len(X)\n",
    "    num_features = len(X[0])\n",
    "\n",
    "    means = [0] * num_features\n",
    "    std_devs = [0] * num_features\n",
    "\n",
    "    for j in range(num_features):\n",
    "        feature_sum = sum(X[i][j] for i in range(num_samples))\n",
    "        means[j] = feature_sum / num_samples\n",
    "\n",
    "    for j in range(num_features):\n",
    "        variance_sum = sum((X[i][j] - means[j]) ** 2 for i in range(num_samples))\n",
    "        variance = variance_sum / num_samples\n",
    "        std_devs[j] = variance ** 0.5\n",
    "\n",
    "    std_devs = [1 if sd == 0 else sd for sd in std_devs]\n",
    "\n",
    "    standardized_data = [\n",
    "        [(X[i][j] - means[j]) / std_devs[j] for j in range(num_features)]\n",
    "        for i in range(num_samples)\n",
    "    ]\n",
    "\n",
    "    return standardized_data\n"
   ]
  },
  {
   "cell_type": "code",
   "execution_count": 43,
   "id": "ce8066ae",
   "metadata": {},
   "outputs": [],
   "source": [
    "import pandas as pd\n",
    "from sklearn.model_selection import train_test_split\n",
    "import matplotlib.pyplot as plt "
   ]
  },
  {
   "cell_type": "code",
   "execution_count": 44,
   "id": "ab8d87fe",
   "metadata": {},
   "outputs": [],
   "source": [
    "salary_data = pd.read_csv('salary_data.csv')"
   ]
  },
  {
   "cell_type": "code",
   "execution_count": 45,
   "id": "fd95d7a5",
   "metadata": {},
   "outputs": [
    {
     "data": {
      "text/html": [
       "<div>\n",
       "<style scoped>\n",
       "    .dataframe tbody tr th:only-of-type {\n",
       "        vertical-align: middle;\n",
       "    }\n",
       "\n",
       "    .dataframe tbody tr th {\n",
       "        vertical-align: top;\n",
       "    }\n",
       "\n",
       "    .dataframe thead th {\n",
       "        text-align: right;\n",
       "    }\n",
       "</style>\n",
       "<table border=\"1\" class=\"dataframe\">\n",
       "  <thead>\n",
       "    <tr style=\"text-align: right;\">\n",
       "      <th></th>\n",
       "      <th>YearsExperience</th>\n",
       "      <th>Salary</th>\n",
       "    </tr>\n",
       "  </thead>\n",
       "  <tbody>\n",
       "    <tr>\n",
       "      <th>0</th>\n",
       "      <td>1.1</td>\n",
       "      <td>39343</td>\n",
       "    </tr>\n",
       "    <tr>\n",
       "      <th>1</th>\n",
       "      <td>1.3</td>\n",
       "      <td>46205</td>\n",
       "    </tr>\n",
       "    <tr>\n",
       "      <th>2</th>\n",
       "      <td>1.5</td>\n",
       "      <td>37731</td>\n",
       "    </tr>\n",
       "    <tr>\n",
       "      <th>3</th>\n",
       "      <td>2.0</td>\n",
       "      <td>43525</td>\n",
       "    </tr>\n",
       "    <tr>\n",
       "      <th>4</th>\n",
       "      <td>2.2</td>\n",
       "      <td>39891</td>\n",
       "    </tr>\n",
       "  </tbody>\n",
       "</table>\n",
       "</div>"
      ],
      "text/plain": [
       "   YearsExperience  Salary\n",
       "0              1.1   39343\n",
       "1              1.3   46205\n",
       "2              1.5   37731\n",
       "3              2.0   43525\n",
       "4              2.2   39891"
      ]
     },
     "execution_count": 45,
     "metadata": {},
     "output_type": "execute_result"
    }
   ],
   "source": [
    "salary_data.head()"
   ]
  },
  {
   "cell_type": "code",
   "execution_count": 46,
   "id": "046202bf",
   "metadata": {},
   "outputs": [],
   "source": [
    "X = salary_data.iloc[:,:-1].values\n",
    "Y = salary_data.iloc[:,1].values"
   ]
  },
  {
   "cell_type": "code",
   "execution_count": 73,
   "id": "710d010a",
   "metadata": {},
   "outputs": [],
   "source": [
    "X_train , X_test, Y_train , Y_test = train_test_split(X,Y,test_size=0.4,random_state=42)"
   ]
  },
  {
   "cell_type": "code",
   "execution_count": 74,
   "id": "c7d4a3d4",
   "metadata": {},
   "outputs": [],
   "source": [
    "model = LR(learn_rate=0.01,no_of_iterations=1500)"
   ]
  },
  {
   "cell_type": "code",
   "execution_count": 75,
   "id": "08bea33f",
   "metadata": {},
   "outputs": [],
   "source": [
    "model.fit(X_train,Y_train)"
   ]
  },
  {
   "cell_type": "code",
   "execution_count": 76,
   "id": "1e583fa7",
   "metadata": {},
   "outputs": [
    {
     "name": "stdout",
     "output_type": "stream",
     "text": [
      "Weights: 9440.523535372186\n",
      "Bias: 25784.448047916267\n"
     ]
    }
   ],
   "source": [
    "print(\"Weights:\",model.weights[0])\n",
    "print(\"Bias:\",model.bias)"
   ]
  },
  {
   "cell_type": "code",
   "execution_count": 77,
   "id": "4cc3fc53",
   "metadata": {},
   "outputs": [],
   "source": [
    "test_data_pred = model.predict(X_test)"
   ]
  },
  {
   "cell_type": "code",
   "execution_count": 78,
   "id": "2d038b37",
   "metadata": {},
   "outputs": [
    {
     "data": {
      "image/png": "[encoded data removed]",
      "text/plain": [
       "<Figure size 640x480 with 1 Axes>"
      ]
     },
     "metadata": {},
     "output_type": "display_data"
    }
   ],
   "source": [
    "plt.scatter( X_test, Y_test, color = 'red' )\n",
    "plt.plot( X_test, test_data_pred, color = 'blue' )    \n",
    "plt.xlabel( 'Work Experience' )\n",
    "plt.ylabel( 'Salary' )\n",
    "plt.title( 'Salary vs Experience' )\n",
    "plt.show()"
   ]
  },
  {
   "cell_type": "code",
   "execution_count": 80,
   "id": "10fc266d",
   "metadata": {},
   "outputs": [
    {
     "name": "stdout",
     "output_type": "stream",
     "text": [
      "Mean Absolute Error (MAE): 5351.404926356885\n",
      "Mean Squared Error (MSE): 36959378.81844153\n",
      "Root Mean Squared Error (RMSE): 6079.422572781195\n",
      "R-squared (R^2): 0.9543552339809639\n"
     ]
    },
    {
     "name": "stderr",
     "output_type": "stream",
     "text": [
      "C:\\Users\\anask\\anaconda3\\Lib\\site-packages\\sklearn\\metrics\\_regression.py:492: FutureWarning: 'squared' is deprecated in version 1.4 and will be removed in 1.6. To calculate the root mean squared error, use the function'root_mean_squared_error'.\n",
      "  warnings.warn(\n"
     ]
    }
   ],
   "source": [
    "from sklearn.metrics import mean_absolute_error, mean_squared_error, r2_score\n",
    "\n",
    "\n",
    "mae = mean_absolute_error(Y_test, test_data_pred)\n",
    "print(f\"Mean Absolute Error (MAE): {mae}\")\n",
    "\n",
    "\n",
    "mse = mean_squared_error(Y_test, test_data_pred)\n",
    "print(f\"Mean Squared Error (MSE): {mse}\")\n",
    "\n",
    "\n",
    "rmse = mean_squared_error(Y_test, test_data_pred, squared=False)\n",
    "print(f\"Root Mean Squared Error (RMSE): {rmse}\")\n",
    "\n",
    "\n",
    "r2 = r2_score(Y_test, test_data_pred)\n",
    "print(f\"R-squared (R^2): {r2}\")\n"
   ]
  },
  {
   "cell_type": "code",
   "execution_count": null,
   "id": "46e03a45",
   "metadata": {},
   "outputs": [],
   "source": []
  },
  {
   "cell_type": "code",
   "execution_count": null,
   "id": "bf78afa8",
   "metadata": {},
   "outputs": [],
   "source": []
  }
 ],
 "metadata": {
  "kernelspec": {
   "display_name": "Python 3 (ipykernel)",
   "language": "python",
   "name": "python3"
  },
  "language_info": {
   "codemirror_mode": {
    "name": "ipython",
    "version": 3
   },
   "file_extension": ".py",
   "mimetype": "text/x-python",
   "name": "python",
   "nbconvert_exporter": "python",
   "pygments_lexer": "ipython3",
   "version": "3.11.4"
  }
 },
 "nbformat": 4,
 "nbformat_minor": 5
}
